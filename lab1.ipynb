{
  "nbformat": 4,
  "nbformat_minor": 0,
  "metadata": {
    "colab": {
      "name": "lab1",
      "provenance": []
    },
    "kernelspec": {
      "name": "python3",
      "display_name": "Python 3"
    },
    "language_info": {
      "name": "python"
    }
  },
  "cells": [
    {
      "cell_type": "code",
      "metadata": {
        "colab": {
          "base_uri": "https://localhost:8080/"
        },
        "id": "bGnaj7KLi21-",
        "outputId": "97c3f7f0-214d-48fa-c49f-8887a563de37"
      },
      "source": [
        "from google.colab import drive\n",
        "drive.mount('/content/drive')"
      ],
      "execution_count": 1,
      "outputs": [
        {
          "output_type": "stream",
          "text": [
            "Mounted at /content/drive\n"
          ],
          "name": "stdout"
        }
      ]
    },
    {
      "cell_type": "code",
      "metadata": {
        "colab": {
          "base_uri": "https://localhost:8080/"
        },
        "id": "taXK0sGzoNx3",
        "outputId": "5f8eb98c-5cd5-44fb-cfa7-ea633b66e371"
      },
      "source": [
        "\n",
        "file = '/content/drive/My Drive/data/digits/files.txt'\n",
        "path = '/content/drive/My Drive/data/digits'\n",
        "\n",
        "###############################################################################\n",
        "# Dummy Pixels\n",
        "###############################################################################\n",
        "import os\n",
        "import cv2\n",
        "import pandas as pd\n",
        "import progressbar\n",
        "\n",
        "w = 5\n",
        "h = 5\n",
        "\n",
        "X = []\n",
        "y = []\n",
        "\n",
        "listOfImages = []\n",
        "  \n",
        "arq = open(file)\n",
        "lines = arq.readlines()\n",
        "\n",
        "\n",
        "for line in  progressbar.progressbar(lines):\n",
        "  aux = line.split('/')[1]\n",
        "  image_name = aux.split(' ')[0]\n",
        "  label = line.split(' ')[1]\n",
        "  label = label.split('\\n')\n",
        "  \n",
        "  f = path + '/data/' + image_name\n",
        "  #print (f)\n",
        "  \n",
        "  ## opens the image using a single chanel (grey level)\n",
        "  imagem = cv2.imread(f,0)\n",
        "  \n",
        "  listOfImages.append(f)\n",
        "  \n",
        "  ## rezise the image according to the parameters\n",
        "  imagem = cv2.resize(imagem,(h,w))  #### <=====\n",
        "\n",
        "  ## pixel count  \n",
        "  v = []\n",
        "  for i in range(w):\n",
        "    for j in range(h):\n",
        "      if(imagem[i][j] > 128):\n",
        "        v.append(0)\n",
        "      else:\n",
        "        v.append(1)\n",
        "  \n",
        "  X.append(v)\n",
        "  y.append(int(label[0]))\n",
        "      \n",
        "      \n",
        "## Save data\n",
        "\n",
        "            \n",
        "# Saving the extracted features (handcrafted) in a csv file\n",
        "print ('Saving data...')\n",
        "df = pd.DataFrame(X)\n",
        "df.to_csv('/content/drive/My Drive/data/X.csv', header=False, index=False)\n",
        "\n",
        "# Saving the classes in a csv file\n",
        "df_class = pd.DataFrame(y)\n",
        "df_class.to_csv('/content/drive/My Drive/data/y.csv', header=False, index=False)\n",
        "\n",
        "print ('Done!')"
      ],
      "execution_count": 6,
      "outputs": [
        {
          "output_type": "stream",
          "text": [
            "100% (2000 of 2000) |####################| Elapsed Time: 0:00:07 Time:  0:00:07\n"
          ],
          "name": "stderr"
        },
        {
          "output_type": "stream",
          "text": [
            "Saving data...\n",
            "Done!\n"
          ],
          "name": "stdout"
        }
      ]
    },
    {
      "cell_type": "code",
      "metadata": {
        "colab": {
          "base_uri": "https://localhost:8080/"
        },
        "id": "g_54z-tjr74o",
        "outputId": "c687187e-da66-4b18-fec9-551fb94055a0"
      },
      "source": [
        "###############################################################################\n",
        "## Classify using Holdout\n",
        "###############################################################################\n",
        "import pandas as pd\n",
        "import numpy as np\n",
        "from sklearn import  model_selection\n",
        "from sklearn.metrics import confusion_matrix\n",
        "from sklearn.model_selection import train_test_split\n",
        "from sklearn.neighbors import KNeighborsClassifier\n",
        "from sklearn.metrics import classification_report\n",
        "\n",
        "\n",
        "# Labels\n",
        "y = pd.read_csv('/content/drive/My Drive/data/y.csv', header=None)\n",
        "y=y.to_numpy()\n",
        "y=np.ravel(y)\n",
        "print(y.shape)\n",
        "\n",
        "# Features\n",
        "X = pd.read_csv('/content/drive/My Drive/data/X.csv', header=None)\n",
        "X=X.to_numpy()\n",
        "print(X.shape)\n",
        "\n",
        "X_train, X_test, y_train, y_test = train_test_split(X,y,test_size=.5, random_state=42)\n",
        "\n",
        "# Train the classifier\n",
        "clfa = KNeighborsClassifier(n_neighbors=3, metric='euclidean')\n",
        "#clfa = LogisticRegression(C=1e5, solver='lbfgs', multi_class='multinomial')\n",
        "clfa = clfa.fit(X_train, y_train)\n",
        "\n",
        "# Predict\n",
        "predicted=clfa.predict(X_test)\n",
        "score=clfa.score(X_test, y_test)\n",
        "\n",
        "matrix = confusion_matrix(y_test, predicted)\n",
        "\n",
        "# Print results\n",
        "print(\"Accuracy = %.2f \" % score)\n",
        "print(\"Confusion Matrix:\")\n",
        "print(matrix)\n",
        "\n",
        "print(classification_report(y_test, predicted, labels=[0,1, 2, 3,4,5,6,7,8,9]))"
      ],
      "execution_count": 7,
      "outputs": [
        {
          "output_type": "stream",
          "text": [
            "(2000,)\n",
            "(2000, 25)\n",
            "Accuracy = 0.78 \n",
            "Confusion Matrix:\n",
            "[[ 91   1   0   1   0   0   0   0   0   0]\n",
            " [  1 107   2   0   0   0   1   0   1   0]\n",
            " [ 10   9  69   9   0   1   3   4   2   3]\n",
            " [  3   1   1  77   0   9   0   0   0   1]\n",
            " [  1  10   1   0  85   0   0   0   0   3]\n",
            " [  3   1   1   7   0  73   1   1   1   0]\n",
            " [  7   3   2   0   0   2  86   0   0   0]\n",
            " [  0   8   1   0   1   1   0  77   0  13]\n",
            " [  2   6   2  12   6   8   1   8  48   4]\n",
            " [  1   3   0   2   6   1   0  26   1  67]]\n",
            "              precision    recall  f1-score   support\n",
            "\n",
            "           0       0.76      0.98      0.86        93\n",
            "           1       0.72      0.96      0.82       112\n",
            "           2       0.87      0.63      0.73       110\n",
            "           3       0.71      0.84      0.77        92\n",
            "           4       0.87      0.85      0.86       100\n",
            "           5       0.77      0.83      0.80        88\n",
            "           6       0.93      0.86      0.90       100\n",
            "           7       0.66      0.76      0.71       101\n",
            "           8       0.91      0.49      0.64        97\n",
            "           9       0.74      0.63      0.68       107\n",
            "\n",
            "    accuracy                           0.78      1000\n",
            "   macro avg       0.79      0.78      0.78      1000\n",
            "weighted avg       0.79      0.78      0.77      1000\n",
            "\n"
          ],
          "name": "stdout"
        }
      ]
    }
  ]
}